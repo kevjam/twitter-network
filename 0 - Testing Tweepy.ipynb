{
 "cells": [
  {
   "cell_type": "markdown",
   "metadata": {},
   "source": [
    "### Tweepy Documentation\n",
    "http://docs.tweepy.org/en/v3.5.0/api.html"
   ]
  },
  {
   "cell_type": "markdown",
   "metadata": {},
   "source": [
    "### Authentication"
   ]
  },
  {
   "cell_type": "code",
   "execution_count": 11,
   "metadata": {},
   "outputs": [],
   "source": [
    "import tweepy\n",
    "import os\n",
    "\n",
    "API_Key = os.environ.get('Twitter_API_Key')\n",
    "API_Secret = os.environ.get('Twitter_API_Secret')\n",
    "Access_Token = os.environ.get('Twitter_Access_Key')\n",
    "Access_Secret = os.environ.get('Twitter_Access_Secret')\n",
    "\n",
    "auth = tweepy.OAuthHandler(API_Key,API_Secret)\n",
    "auth.set_access_token(Access_Token, Access_Secret)\n",
    "\n",
    "api = tweepy.API(auth, wait_on_rate_limit=True, wait_on_rate_limit_notify=True, compression=True)"
   ]
  },
  {
   "cell_type": "markdown",
   "metadata": {},
   "source": [
    "### Getting a user via id and vice versa\n",
    "\n",
    "http://docs.tweepy.org/en/v3.5.0/api.html?highlight=get_user#API.get_user\n",
    "\n",
    "https://developer.twitter.com/en/docs/tweets/data-dictionary/overview/user-object.html -- information on User Objects"
   ]
  },
  {
   "cell_type": "code",
   "execution_count": 12,
   "metadata": {},
   "outputs": [
    {
     "name": "stdout",
     "output_type": "stream",
     "text": [
      "4442463679\n"
     ]
    }
   ],
   "source": [
    "u=api.get_user('Tolomeo_R')\n",
    "print(u.id)"
   ]
  },
  {
   "cell_type": "code",
   "execution_count": 13,
   "metadata": {},
   "outputs": [
    {
     "name": "stdout",
     "output_type": "stream",
     "text": [
      "Tolomeo_R\n",
      "https://pbs.twimg.com/profile_images/952241962261737473/J952D6l-_normal.jpg\n",
      "https://www.twitter.com/Tolomeo_R\n"
     ]
    }
   ],
   "source": [
    "u = api.get_user(u.id)\n",
    "print(u.screen_name)\n",
    "print(u.profile_image_url_https)\n",
    "print('https://www.twitter.com/{}'.format(u.screen_name))"
   ]
  },
  {
   "cell_type": "markdown",
   "metadata": {},
   "source": [
    "### Parsing a user's followers using paging\n",
    "\n",
    "Will hit the rate limit using api.followers"
   ]
  },
  {
   "cell_type": "code",
   "execution_count": 28,
   "metadata": {},
   "outputs": [
    {
     "name": "stderr",
     "output_type": "stream",
     "text": [
      "C:\\Users\\kevin\\Anaconda3\\lib\\site-packages\\ipykernel_launcher.py:6: DeprecationWarning: inspect.getargspec() is deprecated since Python 3.0, use inspect.signature() or inspect.getfullargspec()\n",
      "  \n"
     ]
    },
    {
     "name": "stdout",
     "output_type": "stream",
     "text": [
      "ArgSpec(args=['self', 'method'], varargs='args', keywords='kargs', defaults=None)\n",
      "Page 1's length:5000\n"
     ]
    },
    {
     "name": "stderr",
     "output_type": "stream",
     "text": [
      "Rate limit reached. Sleeping for: 603\n"
     ]
    },
    {
     "name": "stdout",
     "output_type": "stream",
     "text": [
      "Page 2's length:234\n",
      "5234\n"
     ]
    }
   ],
   "source": [
    "user_name = 'Tolomeo_R' # this is their @handle\n",
    "\n",
    "ids = []\n",
    "i = 1\n",
    "for page in tweepy.Cursor(api.followers_ids, user_name).pages():\n",
    "    ids.extend(page)\n",
    "    print('Page {} length:{}'.format(str(i)+\"'s\",len(page)))\n",
    "    i += 1\n",
    "print(len(ids))"
   ]
  },
  {
   "cell_type": "markdown",
   "metadata": {},
   "source": [
    "### Checking the rate limit"
   ]
  },
  {
   "cell_type": "code",
   "execution_count": 15,
   "metadata": {},
   "outputs": [],
   "source": [
    "data = api.rate_limit_status()"
   ]
  },
  {
   "cell_type": "code",
   "execution_count": 16,
   "metadata": {},
   "outputs": [
    {
     "data": {
      "text/plain": [
       "{'/followers/ids': {'limit': 15, 'remaining': 11, 'reset': 1568837757},\n",
       " '/followers/list': {'limit': 15, 'remaining': 0, 'reset': 1568837677}}"
      ]
     },
     "execution_count": 16,
     "metadata": {},
     "output_type": "execute_result"
    }
   ],
   "source": [
    "data['resources']['followers']"
   ]
  },
  {
   "cell_type": "markdown",
   "metadata": {},
   "source": [
    "### Time until reset"
   ]
  },
  {
   "cell_type": "code",
   "execution_count": 17,
   "metadata": {
    "scrolled": false
   },
   "outputs": [],
   "source": [
    "reset = data['resources']['followers']['/followers/ids']['reset']"
   ]
  },
  {
   "cell_type": "code",
   "execution_count": 18,
   "metadata": {},
   "outputs": [
    {
     "data": {
      "text/plain": [
       "'Wed Sep 18 13:15:57 2019'"
      ]
     },
     "execution_count": 18,
     "metadata": {},
     "output_type": "execute_result"
    }
   ],
   "source": [
    "import time\n",
    "\n",
    "time.ctime(reset)"
   ]
  },
  {
   "cell_type": "code",
   "execution_count": 19,
   "metadata": {},
   "outputs": [
    {
     "data": {
      "text/plain": [
       "892.1358139514923"
      ]
     },
     "execution_count": 19,
     "metadata": {},
     "output_type": "execute_result"
    }
   ],
   "source": [
    "reset - time.time()"
   ]
  },
  {
   "cell_type": "code",
   "execution_count": 20,
   "metadata": {
    "scrolled": true
   },
   "outputs": [
    {
     "name": "stdout",
     "output_type": "stream",
     "text": [
      "175 out of 180 /application/rate_limit_status requests remaining. Resets 141.56113815307617 seconds from now.\n",
      "894 out of 900 /users/show/:id requests remaining. Resets 810.5591418743134 seconds from now.\n",
      "11 out of 15 /followers/ids requests remaining. Resets 891.5581550598145 seconds from now.\n",
      "0 out of 15 /followers/list requests remaining. Resets 811.5581550598145 seconds from now.\n"
     ]
    }
   ],
   "source": [
    "data = api.rate_limit_status()\n",
    "resources = data['resources']\n",
    "\n",
    "for resource in resources:\n",
    "    for value in resources[resource]:\n",
    "        limit = resources[resource][value]['limit']\n",
    "        remaining = resources[resource][value]['remaining']\n",
    "        \n",
    "        if limit != remaining:\n",
    "            reset = resources[resource][value]['reset']\n",
    "            reset - time.time()\n",
    "            print(\"{} out of {} {} requests remaining. Resets {} seconds from now.\".format(remaining,limit,value,reset-time.time()))"
   ]
  },
  {
   "cell_type": "code",
   "execution_count": null,
   "metadata": {},
   "outputs": [],
   "source": []
  }
 ],
 "metadata": {
  "kernelspec": {
   "display_name": "Python 3",
   "language": "python",
   "name": "python3"
  },
  "language_info": {
   "codemirror_mode": {
    "name": "ipython",
    "version": 3
   },
   "file_extension": ".py",
   "mimetype": "text/x-python",
   "name": "python",
   "nbconvert_exporter": "python",
   "pygments_lexer": "ipython3",
   "version": "3.7.3"
  }
 },
 "nbformat": 4,
 "nbformat_minor": 2
}
